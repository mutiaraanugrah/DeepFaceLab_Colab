{
  "nbformat": 4,
  "nbformat_minor": 0,
  "metadata": {
    "colab": {
      "name": "DeepFaceLab_Colab_V3.ipynb",
      "provenance": [],
      "collapsed_sections": [],
      "toc_visible": true,
      "include_colab_link": true
    },
    "kernelspec": {
      "name": "python3",
      "display_name": "Python 3"
    },
    "accelerator": "GPU"
  },
  "cells": [
    {
      "cell_type": "markdown",
      "metadata": {
        "id": "view-in-github",
        "colab_type": "text"
      },
      "source": [
        "<a href=\"https://colab.research.google.com/github/dream80/DeepFaceLab_Colab/blob/master/DeepFaceLab_Colab_V3.ipynb\" target=\"_parent\"> <img src = \" https: //colab.research.google.com/assets/colab-badge.svg \ "alt = \" Open In Colab \ "/> </a>"
      ]
    },
    {
      "cell_type": "markdown",
      "metadata": {
        "id": "KWQMLYlFrTXz",
        "colab_type": "text"
      },
      "source": [
        "# Introduction \ n",
        "\ n",
        "No need to say more, just run all the way! \ N",
        "\ n",
        "This script was created by ** [Tony is Tucker] (https://wxp123.me) **, only for learning, please do not abuse it. If in doubt, pull to the end! \ N",
        "\ n",
        "V3 mainly updates the version to 20191229. In the future, new versions will be updated here. SAEHD is no longer compatible with previous versions. The model needs to be retrained!"
      ]
    },
    {
      "cell_type": "code",
      "metadata": {
        "id": "AmGMbWZef1XI",
        "colab_type": "code",
        "cellView": "form",
        "colab": {}
      },
      "source": [
        "# @ title View assigned devices \ n",
        "# Check the device, is it K80 or T4, if it is K80 ...! \ N",
        "! / opt / bin / nvidia-smi"
      ],
      "execution_count": 0,
      "outputs": []
    },
    {
      "cell_type": "markdown",
      "metadata": {
        "id": "ldpC3PjRrYYh",
        "colab_type": "text"
      },
      "source": [
        "# First step ready workspace \ n",
        "You can choose two ways in this step \ n",
        "1. With the default workspace, you don't need to upload it yourself, only for familiar operations. \ N",
        "2. Upload your workspace to the specified directory via Google Drive. \ N",
        "\ n",
        "\ n",
        "\ n",
        "Google Cloud Drive address: https://drive.google.com/drive/my-drive \ n",
        "Note: Google URLs now require" Science Internet "to access."
      ]
    },
    {
      "cell_type": "code",
      "metadata": {
        "id": "D7toZxhT4J9W",
        "colab_type": "code",
        "cellView": "form",
        "colab": {
          "base_uri": "https: // localhost: 8080 /",
          "height": 182
        },
        "outputId": "5922748e-b026-4e6d-d4af-cea019f3989b"
      },
      "source": [
        "# @ title start mounting \ n",
        "#Mounted load Google Cloud Disk \ n",
        "#Click the link to authorize, copy the authorization code, fill in the box, and press Enter. \ N",
        "\ n",
        "from google.colab import drive \ n",
        "drive.mount ('/ content / drive', force_remount = True) \ n",
        "\ n",
        "#Create DeepFaceLab directory and enter directory \ n",
        "% cd / content / drive / My Drive / \ n",
        "! mkdir DeepFaceLab \ n",
        "% cd / content / drive / My Drive / DeepFaceLab / \ n"
      ],
      "execution_count": 1,
      "outputs": [
        {
          "output_type": "stream",
          "text": [
            "Go to this URL in a browser: https://accounts.google.com/o/oauth2/auth?client_id=947318989803-6bn6qk8qdgf4n4g3pfee6491hc0brc4i.apps.googleusercontent.com&redirect_uri=urn%3aietf%3awg%3aoauobtype3 = code & scope = email% 20https% 3a% 2f% 2fwww.googleapis.com% 2fauth% 2fdocs.test% 20https% 3a% 2f% 2fwww.googleapis.com% 2fauth% 2fdrive% 20https% 3a% 2f% 2fwww.googleapis.com % 2fauth% 2fdrive.photos.readonly% 20https% 3a% 2f% 2fwww.googleapis.com% 2fauth% 2fpeopleapi.readonly \ n ",
            "\ n",
            "Enter your authorization code: \ n",
            "······· \ n",
            "Mounted at / content / drive \ n",
            "/ content / drive / My Drive \ n",
            "mkdir: cannot create directory‘ DeepFaceLab ’: File exists \ n",
            "/ content / drive / My Drive / DeepFaceLab \ n"
          ],
          "name": "stdout"
        }
      ]
    },
    {
      "cell_type": "markdown",
      "metadata": {
        "id": "_nyimmWVKk8V",
        "colab_type": "text"
      },
      "source": [
        "There are two options for this link: \ n",
        "If you're using it for the first time, you can load the sample project and run it later. \ N",
        "If you run it twice, you don't need to load it. \ N",
        "If you want to upload local material, you can use the pack script to pack the material into faceset.pak to the aligned directory. There is no need to decompress it. You can directly train and convert. The loading speed will be very fast. \ N"
      ]
    },
    {
      "cell_type": "code",
      "metadata": {
        "id": "cNsq0I98KvHl",
        "colab_type": "code",
        "cellView": "both",
        "colab": {}
      },
      "source": [
        "# @ title load example project workspace \ n",
        "# 1. This line can be used for practicing, and git clone a workspace \ n" directly,
        "% cd / content / drive / My Drive / DeepFaceLab / \ n",
        "! rm -rf workspace \ n",
        "! git clone https://github.com/dream80/DFLWorkspace.git workspace"
      ],
      "execution_count": 0,
      "outputs": []
    },
    {
      "cell_type": "markdown",
      "metadata": {
        "id": "yA4nziLPtAf9",
        "colab_type": "text"
      },
      "source": [
        "#Second step install DeepFaceLab \ n",
        "Get the source code, install dependencies, choose the version according to your situation \ n",
        "\ n",
        "1229: The last version of 2019. \ n",
        "last: latest version"
      ]
    },
    {
      "cell_type": "code",
      "metadata": {
        "id": "4CbWbLzHzqTQ",
        "colab_type": "code",
        "cellView": "form",
        "colab": {}
      },
      "source": [
        "# @ title start installation \ n",
        "\ n",
        "Version = \" v1.12.29 \ "# @ param [\" v1.12.29 \ ", \" last \ "] \ n",
        "% cd / content / drive / My Drive / DeepFaceLab \ n",
        "! rm -fr DeepFaceLab_Colab \ n",
        "if Version == \" 620 \ ": \ n",
        "print (\" 620 version is loading ...... "" \ n ",
        "# Get DFL source code v1.6.1 stable version \ n",
        "! git clone -b v1.6.1 https://github.com/dream80/DeepFaceLab_Colab.git\n",
        "% cd / content / drive / My Drive / DeepFaceLab / DeepFaceLab_Colab \ n",
        "! pip install -r requirements-colab.txt \ n",
        "elif Version == \" last \ ": \ n",
        "print (\" Latest version loading ...... "" \ n ",
        "! git clone https://github.com/dream80/DeepFaceLab_Colab.git\n",
        "% cd / content / drive / My Drive / DeepFaceLab / DeepFaceLab_Colab \ n",
        "! pip install -r requirements-colab.txt \ n",
        "else: \ n",
        "print (Version + \" Loading ...... "" \ n ",
        "cmd = \" clone -b \ "+ Version + \" https: //github.com/dream80/DeepFaceLab_Colab.git \ "\ n",
        "! git $ cmd \ n",
        "% cd / content / drive / My Drive / DeepFaceLab / DeepFaceLab_Colab \ n",
        "! pip install -r requirements-colab.txt \ n",
        "\ n",
        "! pip install --upgrade scikit-image \ n",
        "! sudo apt-get install cuda-10-0 \ n"
      ],
      "execution_count": 0,
      "outputs": []
    },
    {
      "cell_type": "markdown",
      "metadata": {
        "id": "9G9s5gJrty-x",
        "colab_type": "text"
      },
      "source": [
        "# Third step. Extracting faces"
      ]
    },
    {
      "cell_type": "markdown",
      "metadata": {
        "id": "llMCZb-uMuD1",
        "colab_type": "text"
      },
      "source": [
        "This step is actually divided into two steps. The first time I choose src, and the second time I choose dst. Many people who do n’t know Deepfacelab may only click one, and I will get an error later. \ N",
        "\ n",
        "In this step, there are actually three small steps, decomposing the video, extracting faces, and packaging the material. If necessary, you can split them up. Generally you don't need to do this. \ N",
        "\ n",
        "\ n",
        "\ n"
      ]
    },
    {
      "cell_type": "code",
      "metadata": {
        "id": "YnhZyEERAW_D",
        "colab_type": "code",
        "cellView": "form",
        "colab": {}
      },
      "source": [
        "# @ title start fetching \ n",
        "target = \" src \ "# @ param [\" src \ ", \" dst \ "] \ n",
        "% cd / content / drive / My Drive / DeepFaceLab / DeepFaceLab_Colab \ n",
        "if target == \" src \ ": \ n",
        "! python main.py videoed extract-video --input-file ../workspace/data_src.mp4 --output-dir ../workspace/data_src/\n",
        "! python main.py extract --input-dir ../workspace/data_src --output-dir ../workspace/data_src/aligned --detector s3fd --debug-dir ../workspace/data_src/aligned_debug\n ",
        "! python main.py util --input-dir ../workspace/data_src/aligned --pack-faceset \ n",
        "else: \ n",
        "! python main.py videoed extract-video --input-file ../workspace/data_dst.mp4 --output-dir ../workspace/data_dst/\n",
        "! python main.py extract --input-dir ../workspace/data_dst --output-dir ../workspace/data_dst/aligned --detector s3fd --debug-dir ../workspace/data_dst/aligned_debug\n ",
        "! python main.py util --input-dir ../workspace/data_dst/aligned --pack-faceset \ n"
      ],
      "execution_count": 0,
      "outputs": []
    },
    {
      "cell_type": "code",
      "metadata": {
        "id": "5MrM8JfIFiy7",
        "colab_type": "code",
        "cellView": "form",
        "colab": {}
      },
      "source": [
        "# @ title start sorting \ n",
        "target = \" src \ "# @ param [\" src \ ", \" dst \ "] \ n",
        "order = \" hist \ "# @ param [\" blur \ ", \" face \ ", \" face-dissim \ ", \" face-yaw \ ", \" face-pitch \ ", \" hist \ ", \" hist-dissim \ ", \" brightness \ ", \" hue \ ", \" black \ ", \" origname \ ", \" oneface \ ", \" final \ ", \" final-no-blur \ "] \ n",
        "\ n",
        "if target == \" src \ ": \ n",
        "#Src sort, you can view the results through Google Cloud Disk, delete the bad pictures \ n",
        "cmd = \" main.py sort --input-dir ../workspace/data_src/aligned --by \ "+ order \ n",
        "\ n",
        "else: \ n",
        "cmd = \" main.py sort --input-dir ../workspace/data_dst/aligned --by \ "+ order \ n",
        "\ n",
        "! python $ cmd"
      ],
      "execution_count": 0,
      "outputs": []
    },
    {
      "cell_type": "markdown",
      "metadata": {
        "id": "QxO1kNO_uRTF",
        "colab_type": "text"
      },
      "source": [
        "# Step 4. Train the model \ n",
        "\ n",
        "\ n",
        "* Supports SAEHD, Quick96, H128, SAE, DF, LIAEF128 and other models, select the model according to your own situation. \ N",
        "* You need to configure the model parameters for the first time. If you don't understand, please press Enter. \ N",
        "* If you don't want to train, you can click Stop. An exception will be thrown when stopping, but it doesn't matter. You can continue training next time"
      ]
    },
    {
      "cell_type": "code",
      "metadata": {
        "id": "MKQbOrIiyFJL",
        "colab_type": "code",
        "cellView": "form",
        "colab": {}
      },
      "source": [
        "# @ title start training \ n",
        "Model = \" SAEHD \ "# @ param [\" SAEHD \ ", \" SAE \ ", \" H128 \ ", \" LIAEF128 \ ", \" DF \ ", \" AVATAR \ ", \" Quick96 \ "] \ n",
        "\ n",
        "% cd \" / content / drive / My Drive / DeepFaceLab / DeepFaceLab_Colab / \ "\ n",
        "cmd = \" main.py train --training-data-src-dir ../workspace/data_src/aligned --training-data-dst-dir ../workspace/data_dst/aligned --model-dir .. / workspace / model --model \ "+ Model + \" --no-preview \ "\ n",
        "! python $ cmd"
      ],
      "execution_count": 0,
      "outputs": []
    },
    {
      "cell_type": "markdown",
      "metadata": {
        "id": "oVfZpBR00gBG",
        "colab_type": "text"
      },
      "source": [
        "** For model preview method, please refer to: ** \ n",
        "https://www.wxp123.me/p/329\n",
        "\ n",
        "Simple description: left-> file-> / driver /..../ model / * preview * .jpg-> double-click \ n",
        "\ n",
        "This method is more convenient than previewing in the script and previewing on the web disk, and does not need to start the preview configuration!"
      ]
    },
    {
      "cell_type": "markdown",
      "metadata": {
        "id": "m2Ba96cVuS0K",
        "colab_type": "text"
      },
      "source": [
        "# Step 5. Convert the output \ n",
        "\ n",
        "What to choose when training a model, choose here \ n",
        "For example training H128, choose H128 \ n"
      ]
    },
    {
      "cell_type": "code",
      "metadata": {
        "id": "G_oEgeU7I9jt",
        "colab_type": "code",
        "cellView": "form",
        "colab": {}
      },
      "source": [
        "# @ title start converting pictures \ n",
        "\ n",
        "Model = \" SAEHD \ "# @ param [\" SAEHD \ ", \" SAE \ ", \" H128 \ ", \" LIAEF128 \ ", \" DF \ ", \" AVATAR \ ", \" Quick96 \ "] \ n",
        "% cd \" / content / drive / My Drive / DeepFaceLab / DeepFaceLab_Colab / \ "\ n",
        "cmd = \" main.py convert --input-dir ../workspace/data_dst --output-dir ../workspace/data_dst/merged --aligned-dir ../workspace/data_dst/aligned --model- dir ../workspace/model --model \ "+ Model \ n",
        "! python $ cmd"
      ],
      "execution_count": 0,
      "outputs": []
    },
    {
      "cell_type": "code",
      "metadata": {
        "colab_type": "code",
        "id": "fbxfQ8UbJrqk",
        "cellView": "form",
        "colab": {}
      },
      "source": [
        "# @ title start picture to video \ n",
        "! python main.py videoed video-from-sequence --input-dir ../workspace/data_dst/merged --output-file ../workspace/result.mp4 --reference-file ../workspace/data_dst. mp4 "
      ],
      "execution_count": 0,
      "outputs": []
    },
    {
      "cell_type": "markdown",
      "metadata": {
        "id": "cVfp8xbY5ykL",
        "colab_type": "text"
      },
      "source": [
        "# 六 步. Continue training \ n",
        "You don't need to perform all the steps above when you start training for the second time or continue training after you are offline. Just a few simple steps below. \ N",
        "1. Mount Cloud Disk \ n",
        "2. Installation dependencies \ n",
        "3. Start training \ n"
      ]
    },
    {
      "cell_type": "code",
      "metadata": {
        "id": "veL_8afb6WcP",
        "colab_type": "code",
        "cellView": "form",
        "colab": {}
      },
      "source": [
        "# @ title run with one click \ n",
        "#Mounted load Google Cloud Disk \ n",
        "#Click the link to authorize, copy the authorization code, fill in the box, and press Enter. \ N",
        "\ n",
        "Model = \" SAEHD \ "# @ param [\" SAEHD \ ", \" SAE \ ", \" H128 \ ", \" LIAEF128 \ ", \" DF \ ", \" AVATAR \ ", \" Quick96 \ "] \ n",
        "\ n",
        "\ n",
        "from google.colab import drive \ n",
        "drive.mount ('/ content / drive', force_remount = True) \ n",
        "\ n",
        "\ n",
        "# Enter DeepFaceLab_Colab directory \ n",
        "% cd / content / drive / My Drive / DeepFaceLab / DeepFaceLab_Colab \ n",
        "\ n",
        "# Install Python dependencies \ n",
        "! pip install -r requirements-colab.txt \ n",
        "! pip install --upgrade scikit-image \ n",
        "! sudo apt-get install cuda-10-0 \ n",
        "\ n",
        "# Start training SAE, if it is another model, modify the following parameters, such as H128. \ N",
        "cmd = \" main.py train --training-data-src-dir ../workspace/data_src/aligned --training-data-dst-dir ../workspace/data_dst/aligned --model-dir .. / workspace / model --model \ "+ Model + \" --no-preview \ "\ n",
        "! python $ cmd"
      ],
      "execution_count": 0,
      "outputs": []
    },
    {
      "cell_type": "markdown",
      "metadata": {
        "id": "siaPGJ1QVacj",
        "colab_type": "text"
      },
      "source": [
        "# Tools \ n"
      ]
    },
    {
      "cell_type": "markdown",
      "metadata": {
        "id": "WGLTllAHYAPJ",
        "colab_type": "text"
      },
      "source": [
        "\ n",
        "Packaging your stuff. It speeds up uploading, downloading, and loading."
      ]
    },
    {
      "cell_type": "code",
      "metadata": {
        "id": "fphcCxuh9Qfw",
        "colab_type": "code",
        "cellView": "form",
        "colab": {}
      },
      "source": [
        "# @ title Packaging \ n",
        "\ n",
        "target = \" src \ "# @ param [\" src \ ", \" dst \ "] \ n",
        "% cd / content / drive / My Drive / DeepFaceLab / DeepFaceLab_Colab \ n",
        "if target == \" src \ ": \ n",
        "! python main.py util --input-dir ../workspace/data_src/aligned --pack-faceset \ n",
        "else: \ n",
        "! python main.py util --input-dir ../workspace/data_dst/aligned --pack-faceset \ n",
        "\ n",
        ""
      ],
      "execution_count": 0,
      "outputs": []
    },
    {
      "cell_type": "code",
      "metadata": {
        "id": "bC2CyDDx6siX",
        "colab_type": "code",
        "cellView": "form",
        "colab": {}
      },
      "source": [
        "# @ title footage unpacking \ n",
        "\ n",
        "target = \" src \ "# @ param [\" src \ ", \" dst \ "] \ n",
        "% cd / content / drive / My Drive / DeepFaceLab / DeepFaceLab_Colab \ n",
        "if target == \" src \ ": \ n",
        "! python main.py util --input-dir ../workspace/data_src/aligned --unpack-faceset \ n",
        "else: \ n",
        "! python main.py util --input-dir ../workspace/data_dst/aligned --unpack-faceset \ n",
        "\ n",
        ""
      ],
      "execution_count": 0,
      "outputs": []
    },
    {
      "cell_type": "code",
      "metadata": {
        "id": "NYDWkORS6xum",
        "colab_type": "code",
        "cellView": "form",
        "colab": {}
      },
      "source": [
        "# @ title Material Enhancement \ n",
        "\ n",
        "target = \" src \ "# @ param [\" src \ "] \ n",
        "% cd / content / drive / My Drive / DeepFaceLab / DeepFaceLab_Colab \ n",
        "if target == \" src \ ": \ n",
        "! python main.py facesettool enhance --input-dir ../workspace/data_src/aligned\n",
        "else: \ n",
        "! python main.py facesettool enhance --input-dir ../workspace/data_dst/aligned\n",
        "\ n",
        ""
      ],
      "execution_count": 0,
      "outputs": []
    },
    {
      "cell_type": "markdown",
      "metadata": {
        "id": "5H85SsIW1PI3",
        "colab_type": "text"
      },
      "source": [
        "# Other \ n",
        "\ n",
        "Google Cloud Address: https://drive.google.com/drive/my-drive\n",
        "\ n",
        "Author's Email: wpgdream@gmail.com \ n",
        "\ n",
        "Tutorial: https: //www.wxp123.me \ n",
        "\ n",
        "\ n",
        "Nothing else, just a little star on github ^ _ ^ \ n",
        "\ n",
        "https://github.com/dream80/DeepFaceLab_Colab\n",
        "\ n",
        "Thank you star in the upper right corner !!!"
      ]
    }
  ]
}
